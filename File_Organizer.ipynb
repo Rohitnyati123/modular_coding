{
 "cells": [
  {
   "cell_type": "markdown",
   "id": "99f5a449-ba46-4a15-adf1-467be3e65ff9",
   "metadata": {},
   "source": [
    "1. get_file_extension\n",
    "2. create_directory\n",
    "3. organize_files"
   ]
  },
  {
   "cell_type": "code",
   "execution_count": 1,
   "id": "0ed57ccc-fb93-4d25-a554-53538bfa3656",
   "metadata": {},
   "outputs": [],
   "source": [
    "import os,sys\n",
    "import shutil"
   ]
  },
  {
   "cell_type": "code",
   "execution_count": 2,
   "id": "c95ffdfa-34f8-4177-b1ee-132c5bdce0ee",
   "metadata": {},
   "outputs": [],
   "source": [
    "#abc.txt,xyz.jpg --> txt,jpg\n",
    "def get_file_extension(filename):\n",
    "    _, extension=os.path.splitext(filename)\n",
    "    return extension"
   ]
  },
  {
   "cell_type": "code",
   "execution_count": 3,
   "id": "fc204b71-30ec-44f8-b22a-7aa90c4ba1e1",
   "metadata": {},
   "outputs": [],
   "source": [
    "def create_directory(directory_path):\n",
    "    if not os.path.exists(directory_path):\n",
    "        os.makedirs(directory_path)"
   ]
  },
  {
   "cell_type": "code",
   "execution_count": 4,
   "id": "fe8efb92-695d-4cf9-ad24-2803a2da516e",
   "metadata": {},
   "outputs": [],
   "source": [
    "def organize_files(source_directory):\n",
    "    if not os.path.exists(source_directory):\n",
    "        print(\"source directory not exists\")\n",
    "        return\n",
    "\n",
    "    for filename in os.listdir(source_directory):\n",
    "        file_path=os.path.join(source_directory,filename)\n",
    "        if os.path.isfile(file_path):\n",
    "            extension = get_file_extension(filename)\n",
    "            if extension:\n",
    "                destination_directory=os.path.join(source_directory,extension[1:])\n",
    "                create_directory(destination_directory)\n",
    "\n",
    "            try:\n",
    "                shutil.move(file_path,os.path.join(destination_directory, filename))\n",
    "                print(f\"moved'{filename}' to'{destination_directory}'\")\n",
    "            except Exception as e:\n",
    "                print(f\"Error during moving '{filename}' to '{destination_directory}':{e}\")\n",
    "            else:\n",
    "                print(f\"skipped '{filename}' as it doesn't have any extension\")\n",
    "        else:\n",
    "            print(f\"skipped '{filename}' as it doesnot have a file\")\n",
    "    \n",
    "    print(\"our files are organized\")\n",
    "\n",
    "\n",
    "# if __name__=='__main__':\n",
    "#     source_directory=input(\"Enter your source directory path: \")\n",
    "#     organize_files(source_directory)"
   ]
  },
  {
   "cell_type": "code",
   "execution_count": 5,
   "id": "3b350f2b-ccad-491f-800b-6560307ab80f",
   "metadata": {},
   "outputs": [
    {
     "name": "stdout",
     "output_type": "stream",
     "text": [
      "moved'MCA.jpg' to'D:\\success analytics\\modular_coding\\File organizer\\images\\jpg'\n",
      "skipped 'MCA.jpg' as it doesn't have any extension\n",
      "moved'PGDCA.jpg' to'D:\\success analytics\\modular_coding\\File organizer\\images\\jpg'\n",
      "skipped 'PGDCA.jpg' as it doesn't have any extension\n",
      "moved'Screenshot 2023-08-02 225705.png' to'D:\\success analytics\\modular_coding\\File organizer\\images\\png'\n",
      "skipped 'Screenshot 2023-08-02 225705.png' as it doesn't have any extension\n",
      "moved'Screenshot 2023-09-19 195555.png' to'D:\\success analytics\\modular_coding\\File organizer\\images\\png'\n",
      "skipped 'Screenshot 2023-09-19 195555.png' as it doesn't have any extension\n",
      "moved'Screenshot 2023-09-19 201255.png' to'D:\\success analytics\\modular_coding\\File organizer\\images\\png'\n",
      "skipped 'Screenshot 2023-09-19 201255.png' as it doesn't have any extension\n",
      "moved'Screenshot 2023-09-19 201419.png' to'D:\\success analytics\\modular_coding\\File organizer\\images\\png'\n",
      "skipped 'Screenshot 2023-09-19 201419.png' as it doesn't have any extension\n",
      "moved'Screenshot 2023-09-19 201637.png' to'D:\\success analytics\\modular_coding\\File organizer\\images\\png'\n",
      "skipped 'Screenshot 2023-09-19 201637.png' as it doesn't have any extension\n",
      "moved'Screenshot 2023-09-19 201656.png' to'D:\\success analytics\\modular_coding\\File organizer\\images\\png'\n",
      "skipped 'Screenshot 2023-09-19 201656.png' as it doesn't have any extension\n",
      "moved'Screenshot 2023-11-15 124438.png' to'D:\\success analytics\\modular_coding\\File organizer\\images\\png'\n",
      "skipped 'Screenshot 2023-11-15 124438.png' as it doesn't have any extension\n",
      "moved'Screenshot 2023-11-15 124535.png' to'D:\\success analytics\\modular_coding\\File organizer\\images\\png'\n",
      "skipped 'Screenshot 2023-11-15 124535.png' as it doesn't have any extension\n",
      "moved'Screenshot 2023-11-15 124606.png' to'D:\\success analytics\\modular_coding\\File organizer\\images\\png'\n",
      "skipped 'Screenshot 2023-11-15 124606.png' as it doesn't have any extension\n",
      "moved'Screenshot 2023-11-20 192530.png' to'D:\\success analytics\\modular_coding\\File organizer\\images\\png'\n",
      "skipped 'Screenshot 2023-11-20 192530.png' as it doesn't have any extension\n",
      "moved'Screenshot 2023-11-20 192546.png' to'D:\\success analytics\\modular_coding\\File organizer\\images\\png'\n",
      "skipped 'Screenshot 2023-11-20 192546.png' as it doesn't have any extension\n",
      "moved'Screenshot 2023-11-20 192639.png' to'D:\\success analytics\\modular_coding\\File organizer\\images\\png'\n",
      "skipped 'Screenshot 2023-11-20 192639.png' as it doesn't have any extension\n",
      "moved'Screenshot 2023-11-20 192709.png' to'D:\\success analytics\\modular_coding\\File organizer\\images\\png'\n",
      "skipped 'Screenshot 2023-11-20 192709.png' as it doesn't have any extension\n",
      "moved'Screenshot.png' to'D:\\success analytics\\modular_coding\\File organizer\\images\\png'\n",
      "skipped 'Screenshot.png' as it doesn't have any extension\n",
      "our files are organized\n"
     ]
    }
   ],
   "source": [
    "d1='D:\\success analytics\\modular_coding\\File organizer\\images'\n",
    "organize_files(d1)"
   ]
  },
  {
   "cell_type": "code",
   "execution_count": 15,
   "id": "25b1c127-5020-45c2-905c-3a5991e81690",
   "metadata": {},
   "outputs": [],
   "source": [
    "class FileOrganizer:\n",
    "    def __init__(self, source_directory):\n",
    "        self.source_directory = source_directory\n",
    "        print(\"kkkkkkkkkkkkkkk\",self.source_directory)\n",
    "\n",
    "    def organize_files(self):\n",
    "        print(\"ssssssssssssssss\",self.source_directory)\n",
    "        if not os.path.exists(self.source_directory):\n",
    "            print(\"Source directory does not exist.\")\n",
    "            return\n",
    "#         print(\"ssssssssssssssss\",self.source_directory)\n",
    "        for filename in os.listdir(self.source_directory):\n",
    "            file_path = os.path.join(self.source_directory, filename)\n",
    "\n",
    "            if os.path.isfile(file_path):\n",
    "                extension = get_file_extension(filename)\n",
    "                if extension:\n",
    "                    destination_directory = os.path.join(self.source_directory, extension[1:])\n",
    "                    create_directory(destination_directory)\n",
    "\n",
    "                    try:\n",
    "                        shutil.move(file_path, os.path.join(destination_directory, filename))\n",
    "                        print(f\"Moved '{filename}' to '{destination_directory}'\")\n",
    "                    except Exception as e:\n",
    "                        print(f\"Error moving '{filename}' to '{destination_directory}': {e}\")\n",
    "                else:\n",
    "                    print(f\"Skipped '{filename}' as it doesn't have an extension.\")\n",
    "            else:\n",
    "                print(f\"Skipped '{filename}' as it is not a file.\")\n",
    "\n",
    "        print(\"File organization completed.\")"
   ]
  },
  {
   "cell_type": "code",
   "execution_count": 16,
   "id": "c59162fc-5834-4024-ae5f-691dfe5ebe00",
   "metadata": {},
   "outputs": [
    {
     "ename": "AttributeError",
     "evalue": "'str' object has no attribute 'source_directory'",
     "output_type": "error",
     "traceback": [
      "\u001b[1;31m---------------------------------------------------------------------------\u001b[0m",
      "\u001b[1;31mAttributeError\u001b[0m                            Traceback (most recent call last)",
      "Cell \u001b[1;32mIn[16], line 1\u001b[0m\n\u001b[1;32m----> 1\u001b[0m data\u001b[38;5;241m=\u001b[39m\u001b[43mFileOrganizer\u001b[49m\u001b[38;5;241;43m.\u001b[39;49m\u001b[43morganize_files\u001b[49m\u001b[43m(\u001b[49m\u001b[38;5;124;43m'\u001b[39;49m\u001b[38;5;124;43mD:\u001b[39;49m\u001b[38;5;124;43m\\\u001b[39;49m\u001b[38;5;124;43msuccess analytics\u001b[39;49m\u001b[38;5;124;43m\\\u001b[39;49m\u001b[38;5;124;43mmodular_coding\u001b[39;49m\u001b[38;5;124;43m\\\u001b[39;49m\u001b[38;5;124;43mFile organizer\u001b[39;49m\u001b[38;5;124;43m\\\u001b[39;49m\u001b[38;5;124;43mimages\u001b[39;49m\u001b[38;5;124;43m'\u001b[39;49m\u001b[43m)\u001b[49m\n",
      "Cell \u001b[1;32mIn[15], line 7\u001b[0m, in \u001b[0;36mFileOrganizer.organize_files\u001b[1;34m(self)\u001b[0m\n\u001b[0;32m      6\u001b[0m \u001b[38;5;28;01mdef\u001b[39;00m \u001b[38;5;21morganize_files\u001b[39m(\u001b[38;5;28mself\u001b[39m):\n\u001b[1;32m----> 7\u001b[0m     \u001b[38;5;28mprint\u001b[39m(\u001b[38;5;124m\"\u001b[39m\u001b[38;5;124mssssssssssssssss\u001b[39m\u001b[38;5;124m\"\u001b[39m,\u001b[38;5;28;43mself\u001b[39;49m\u001b[38;5;241;43m.\u001b[39;49m\u001b[43msource_directory\u001b[49m)\n\u001b[0;32m      8\u001b[0m     \u001b[38;5;28;01mif\u001b[39;00m \u001b[38;5;129;01mnot\u001b[39;00m os\u001b[38;5;241m.\u001b[39mpath\u001b[38;5;241m.\u001b[39mexists(\u001b[38;5;28mself\u001b[39m\u001b[38;5;241m.\u001b[39msource_directory):\n\u001b[0;32m      9\u001b[0m         \u001b[38;5;28mprint\u001b[39m(\u001b[38;5;124m\"\u001b[39m\u001b[38;5;124mSource directory does not exist.\u001b[39m\u001b[38;5;124m\"\u001b[39m)\n",
      "\u001b[1;31mAttributeError\u001b[0m: 'str' object has no attribute 'source_directory'"
     ]
    }
   ],
   "source": [
    "data=FileOrganizer.organize_files('D:\\success analytics\\modular_coding\\File organizer\\images')"
   ]
  },
  {
   "cell_type": "code",
   "execution_count": null,
   "id": "779b0f48-cdaf-4cff-a4d3-679bd234d0e9",
   "metadata": {},
   "outputs": [],
   "source": []
  },
  {
   "cell_type": "code",
   "execution_count": 38,
   "id": "2e4caf28",
   "metadata": {},
   "outputs": [],
   "source": [
    "class calculator1:\n",
    "    def __init__(self,x,y):\n",
    "        self.x=x\n",
    "        self.y=y\n",
    "    \n",
    "    def add(self):\n",
    "        return self.x+self.y"
   ]
  },
  {
   "cell_type": "code",
   "execution_count": 42,
   "id": "3a4d2bee",
   "metadata": {},
   "outputs": [],
   "source": [
    "d1=calculator1(3,5)"
   ]
  },
  {
   "cell_type": "code",
   "execution_count": 43,
   "id": "1b9b11b9",
   "metadata": {},
   "outputs": [
    {
     "data": {
      "text/plain": [
       "8"
      ]
     },
     "execution_count": 43,
     "metadata": {},
     "output_type": "execute_result"
    }
   ],
   "source": [
    "d1.add()"
   ]
  },
  {
   "cell_type": "code",
   "execution_count": 40,
   "id": "0b3d6a80",
   "metadata": {},
   "outputs": [],
   "source": [
    "class Calculator:\n",
    "    def __init__(self, num1, num2):\n",
    "        self.num1 = num1\n",
    "        self.num2 = num2\n",
    "\n",
    "    def add(self):\n",
    "        return self.num1 + self.num2\n",
    "\n",
    "    def subtract(self):\n",
    "        return self.num1 - self.num2\n",
    "\n",
    "\n"
   ]
  },
  {
   "cell_type": "code",
   "execution_count": 41,
   "id": "7f05e8ca",
   "metadata": {},
   "outputs": [],
   "source": [
    "# Example usage:\n",
    "# Create an instance of the Calculator class\n",
    "calc = Calculator(10, 5)\n",
    "\n"
   ]
  },
  {
   "cell_type": "code",
   "execution_count": null,
   "id": "4e9913a7-5022-49ea-97f1-bcf8b3a362a5",
   "metadata": {},
   "outputs": [],
   "source": [
    "# Use the add and subtract methods\n",
    "result_add = calc.add()\n",
    "result_subtract = calc.subtract()\n",
    "\n",
    "# Print the results\n",
    "print(f\"Addition Result: {result_add}\")\n",
    "print(f\"Subtraction Result: {result_subtract}\")"
   ]
  }
 ],
 "metadata": {
  "kernelspec": {
   "display_name": "Python 3 (ipykernel)",
   "language": "python",
   "name": "python3"
  },
  "language_info": {
   "codemirror_mode": {
    "name": "ipython",
    "version": 3
   },
   "file_extension": ".py",
   "mimetype": "text/x-python",
   "name": "python",
   "nbconvert_exporter": "python",
   "pygments_lexer": "ipython3",
   "version": "3.10.11"
  }
 },
 "nbformat": 4,
 "nbformat_minor": 5
}
